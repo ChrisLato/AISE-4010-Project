{
 "cells": [
  {
   "cell_type": "code",
   "execution_count": 18,
   "metadata": {},
   "outputs": [],
   "source": [
    "import pandas as pd\n",
    "\n",
    "gpd = pd.read_csv('data/gdp.csv', index_col='Year')\n",
    "inflation = pd.read_csv('data/inflation.csv', index_col='date')\n",
    "unemployment = pd.read_csv('data/unemployment.csv', index_col='date')\n",
    "yield_data = pd.read_csv('data/yield.csv') #61"
   ]
  },
  {
   "cell_type": "markdown",
   "metadata": {},
   "source": [
    "### Yield curves"
   ]
  },
  {
   "cell_type": "code",
   "execution_count": 19,
   "metadata": {},
   "outputs": [
    {
     "name": "stdout",
     "output_type": "stream",
     "text": [
      "            LongTermRate     Slope  Curvature1  Curvature2  SVEN1F01  \\\n",
      "Date                                                                   \n",
      "1961-06-30      0.160110  0.463769    0.000000         0.0  0.233760   \n",
      "1961-07-31      0.164034  0.446137    0.000000         0.0  0.230211   \n",
      "1961-08-31      0.169935  0.452569    0.000000         0.0  0.236753   \n",
      "1961-09-30      0.165211  0.453090    0.000000         0.0  0.237257   \n",
      "1961-10-31      0.152620  0.455216    0.113939         0.0  0.230314   \n",
      "\n",
      "            SVEN1F04  SVEN1F09   SVENF01   SVENF02   SVENF03  ...   SVENY02  \\\n",
      "Date                                                          ...             \n",
      "1961-06-30  0.247301       NaN  0.221101  0.255323  0.261874  ...  0.211179   \n",
      "1961-07-31  0.254123       NaN  0.214934  0.255350  0.266802  ...  0.205111   \n",
      "1961-08-31  0.264753       NaN  0.220417  0.263449  0.276710  ...  0.213567   \n",
      "1961-09-30  0.256468       NaN  0.224142  0.260710  0.270093  ...  0.215156   \n",
      "1961-10-31  0.247019       NaN  0.218294  0.253516  0.263542  ...  0.209070   \n",
      "\n",
      "             SVENY03   SVENY04   SVENY05   SVENY06   SVENY07  SVENY08  \\\n",
      "Date                                                                    \n",
      "1961-06-30  0.226079  0.234114  0.237820  0.239041  0.239026      NaN   \n",
      "1961-07-31  0.222832  0.233020  0.238224  0.240515  0.241292      NaN   \n",
      "1961-08-31  0.231503  0.242082  0.247620  0.250175  0.251161      NaN   \n",
      "1961-09-30  0.231022  0.239958  0.244317  0.246020  0.246366      NaN   \n",
      "1961-10-31  0.224726  0.233455  0.237227  0.238031  0.237323      NaN   \n",
      "\n",
      "            SVENY09  SVENY10      TAU1  \n",
      "Date                                    \n",
      "1961-06-30      NaN      NaN  0.386493  \n",
      "1961-07-31      NaN      NaN  0.565912  \n",
      "1961-08-31      NaN      NaN  0.565608  \n",
      "1961-09-30      NaN      NaN  0.492659  \n",
      "1961-10-31      NaN      NaN  1.505942  \n",
      "\n",
      "[5 rows x 38 columns]\n"
     ]
    },
    {
     "name": "stderr",
     "output_type": "stream",
     "text": [
      "C:\\Users\\devpa\\AppData\\Local\\Temp\\ipykernel_37128\\560105885.py:38: FutureWarning: 'M' is deprecated and will be removed in a future version, please use 'ME' instead.\n",
      "  monthly_data = yield_data_cleaned.resample('M').mean()\n"
     ]
    }
   ],
   "source": [
    "import pandas as pd\n",
    "import numpy as np\n",
    "\n",
    "# Convert to datetime\n",
    "yield_data['Date'] = pd.to_datetime(yield_data['Date'], errors='coerce')\n",
    "\n",
    "# Replace invalid values with NaN\n",
    "yield_data.replace(-999.99, pd.NA, inplace=True)\n",
    "\n",
    "# Drop columns with more than 20% missing values\n",
    "threshold = 0.2 * len(yield_data)\n",
    "columns_to_drop = yield_data.columns[yield_data.isnull().sum() > threshold]\n",
    "yield_data_cleaned = yield_data.drop(columns=columns_to_drop)\n",
    "\n",
    "# Rename columns \n",
    "column_rename_mapping = {\n",
    "    'BETA0': 'LongTermRate',\n",
    "    'BETA1': 'Slope',\n",
    "    'BETA2': 'Curvature1',\n",
    "    'BETA3': 'Curvature2',\n",
    "}\n",
    "\n",
    "for i in range(1, 31):\n",
    "    column_rename_mapping[f'SVENPY{i:02d}'] = f'SpotRate{i}Y'\n",
    "\n",
    "\n",
    "for i in range(1, 31):\n",
    "    column_rename_mapping[f'SVEN1F{i:02d}'] = f'ForwardRate{i}Y'\n",
    "\n",
    "yield_data_cleaned.rename(columns=column_rename_mapping, inplace=True)\n",
    "\n",
    "# Drop rows where 'Date' or key features are missing\n",
    "key_features = ['Date', 'LongTermRate', 'ForwardRate1Y']\n",
    "yield_data_cleaned = yield_data_cleaned.dropna(subset=key_features)\n",
    "\n",
    "# Set Date as the index for resampling\n",
    "yield_data_cleaned.set_index('Date', inplace=True)\n",
    "\n",
    "# Resample to monthly frequency\n",
    "monthly_data = yield_data_cleaned.resample('M').mean()\n",
    "\n",
    "# Interpolate missing values for continuous features\n",
    "monthly_data_interpolated = monthly_data.interpolate(method='linear', limit_direction='forward', axis=0)\n",
    "\n",
    "# Logarithmic transformation to reduce skewness for curvature columns\n",
    "curvature_columns = ['Curvature1', 'Curvature2']\n",
    "for column in curvature_columns:\n",
    "    monthly_data_interpolated[column] = monthly_data_interpolated[column].apply(\n",
    "        lambda x: np.log1p(x) if x > 0 else 0\n",
    "    )\n",
    "\n",
    "# Normalize continuous features to the range [0, 1]\n",
    "continuous_features = [\n",
    "    col for col in monthly_data_interpolated.columns if col.startswith('LongTermRate') or col.startswith('Slope')\n",
    "    or col.startswith('Curvature') or col.startswith('SpotRate') or col.startswith('ForwardRate')\n",
    "]\n",
    "monthly_data_interpolated[continuous_features] = monthly_data_interpolated[continuous_features].apply(\n",
    "    lambda x: (x - x.min()) / (x.max() - x.min()), axis=0\n",
    ")\n",
    "\n",
    "# Final Output: Display the first few rows of the processed dataset\n",
    "print(monthly_data_interpolated.head())\n",
    "\n",
    "\n"
   ]
  },
  {
   "cell_type": "markdown",
   "metadata": {},
   "source": [
    "### Unemployment"
   ]
  },
  {
   "cell_type": "code",
   "execution_count": null,
   "metadata": {},
   "outputs": [],
   "source": [
    "# code"
   ]
  },
  {
   "cell_type": "markdown",
   "metadata": {},
   "source": [
    "### Inflation"
   ]
  },
  {
   "cell_type": "code",
   "execution_count": null,
   "metadata": {},
   "outputs": [],
   "source": [
    "# code"
   ]
  },
  {
   "cell_type": "code",
   "execution_count": null,
   "metadata": {},
   "outputs": [],
   "source": []
  }
 ],
 "metadata": {
  "kernelspec": {
   "display_name": "tf-gpu",
   "language": "python",
   "name": "python3"
  },
  "language_info": {
   "codemirror_mode": {
    "name": "ipython",
    "version": 3
   },
   "file_extension": ".py",
   "mimetype": "text/x-python",
   "name": "python",
   "nbconvert_exporter": "python",
   "pygments_lexer": "ipython3",
   "version": "3.9.18"
  }
 },
 "nbformat": 4,
 "nbformat_minor": 2
}
