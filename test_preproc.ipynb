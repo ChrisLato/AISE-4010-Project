{
 "cells": [
  {
   "cell_type": "code",
   "execution_count": 2,
   "metadata": {},
   "outputs": [],
   "source": [
    "import pandas as pd\n",
    "import numpy as np\n",
    "import matplotlib.pyplot as plt\n",
    "import seaborn as sns\n"
   ]
  },
  {
   "cell_type": "code",
   "execution_count": 7,
   "metadata": {},
   "outputs": [],
   "source": [
    "gpd_unclean = pd.read_csv('data\\gdp.csv')\n",
    "inflation_unclean = pd.read_csv('data/inflation.csv')\n",
    "unemployment_unclean = pd.read_csv('data/unemployment.csv')\n",
    "yield_data = pd.read_csv('data/yield.csv')"
   ]
  },
  {
   "cell_type": "code",
   "execution_count": 8,
   "metadata": {},
   "outputs": [
    {
     "name": "stderr",
     "output_type": "stream",
     "text": [
      "C:\\Users\\devpa\\AppData\\Local\\Temp\\ipykernel_11116\\2509312377.py:26: FutureWarning: 'M' is deprecated and will be removed in a future version, please use 'ME' instead.\n",
      "  yield_data = yield_data.resample('M').mean()\n"
     ]
    }
   ],
   "source": [
    "from sklearn.preprocessing import MinMaxScaler\n",
    "\n",
    "# Convert to datetime and set as index\n",
    "yield_data['Date'] = pd.to_datetime(yield_data['Date'], errors='coerce')\n",
    "yield_data.set_index('Date', inplace=True)\n",
    "\n",
    "# Replace invalid values with NaN\n",
    "yield_data.replace(-999.99, pd.NA, inplace=True)\n",
    "\n",
    "# Drop columns with more than 20% missing values\n",
    "threshold = 0.2 * len(yield_data)\n",
    "columns_to_drop = yield_data.columns[yield_data.isnull().sum() > threshold]\n",
    "yield_data = yield_data.drop(columns=columns_to_drop)\n",
    "\n",
    "# Rename columns\n",
    "column_rename_mapping = {\n",
    "    'BETA0': 'LongTermRate',    # Reflects investor confidence about long-term economic growth and inflation\n",
    "    'BETA1': 'Slope',           # A negative slope (yield curve inversion) signals a possible recession\n",
    "}\n",
    "for i in range(1, 31):\n",
    "    column_rename_mapping[f'SVENPY{i:02d}'] = f'SpotRate{i}Y'\n",
    "    column_rename_mapping[f'SVEN1F{i:02d}'] = f'ForwardRate{i}Y'\n",
    "yield_data.rename(columns=column_rename_mapping, inplace=True)\n",
    "\n",
    "# Resample to monthly frequency (convert from 'B' to 'M')\n",
    "yield_data = yield_data.resample('M').mean()\n",
    "\n",
    "# Interpolate missing values for continuous features, including key features\n",
    "yield_data.interpolate(method='linear', limit_direction='forward', axis=0, inplace=True)"
   ]
  },
  {
   "cell_type": "code",
   "execution_count": 3,
   "metadata": {},
   "outputs": [],
   "source": [
    "inst = pd.read_csv('processed_yield_data_filled_inst.csv')\n",
    "zero = pd.read_csv('processed_yield_data_filled_supervised_flipped.csv')"
   ]
  },
  {
   "cell_type": "code",
   "execution_count": 32,
   "metadata": {},
   "outputs": [],
   "source": [
    "from sklearn.preprocessing import MinMaxScaler\n",
    "scaler = MinMaxScaler()\n",
    "\n",
    "merged = pd.read_csv('clean_data/merged_data_old.csv')\n",
    "yield_data = pd.read_csv('updated_yield_data.csv')\n",
    "merged = merged.drop(columns=['LongTermRate', 'Slope'])\n",
    "yield_data = yield_data.drop(columns=['Date'])\n",
    "\n",
    "final_merged_data = merged.join(yield_data)\n",
    "final_merged_data = final_merged_data.drop(columns=[\"Unnamed: 0\"])\n",
    "final_merged_data = final_merged_data.set_index(\"DATE\")\n",
    "\n",
    "final_merged_data.to_csv(\"merged_data.csv\")"
   ]
  },
  {
   "cell_type": "code",
   "execution_count": 41,
   "metadata": {},
   "outputs": [],
   "source": [
    "merged_df = pd.read_csv('models/merged_data.csv')\n",
    "recession_df = pd.read_csv('data/recession.csv')"
   ]
  },
  {
   "cell_type": "code",
   "execution_count": 42,
   "metadata": {},
   "outputs": [
    {
     "name": "stderr",
     "output_type": "stream",
     "text": [
      "C:\\Users\\devpa\\AppData\\Local\\Temp\\ipykernel_76768\\858169251.py:6: FutureWarning: 'M' is deprecated and will be removed in a future version, please use 'ME' instead.\n",
      "  recession_df = recession_df.set_index('DATE').resample('M').ffill().reset_index()\n"
     ]
    }
   ],
   "source": [
    "# Convert DATE columns to datetime format\n",
    "recession_df['DATE'] = pd.to_datetime(recession_df['DATE'])\n",
    "merged_df['DATE'] = pd.to_datetime(merged_df['DATE'])\n",
    "\n",
    "# Set DATE as index for forward-filling in recession data\n",
    "recession_df = recession_df.set_index('DATE').resample('M').ffill().reset_index()\n",
    "\n",
    "# Merge the datasets by replacing the Recession column in merged_df\n",
    "merged_df = merged_df.drop(columns=['Recession'], errors='ignore')\n",
    "merged_updated_df = pd.merge(merged_df, recession_df, on='DATE', how='left')\n",
    "\n",
    "# Rename the JHDUSRGDPBR column to Recession for consistency\n",
    "merged_updated_df = merged_updated_df.rename(columns={'JHDUSRGDPBR': 'Recession'})\n",
    "\n"
   ]
  },
  {
   "cell_type": "code",
   "execution_count": 44,
   "metadata": {},
   "outputs": [],
   "source": [
    "merged_updated_df.set_index(\"DATE\")\n",
    "merged_updated_df.to_csv(\"merged_data.csv\")"
   ]
  },
  {
   "cell_type": "code",
   "execution_count": null,
   "metadata": {},
   "outputs": [],
   "source": [
    "final_merged_data"
   ]
  }
 ],
 "metadata": {
  "kernelspec": {
   "display_name": "tf-gpu",
   "language": "python",
   "name": "python3"
  },
  "language_info": {
   "codemirror_mode": {
    "name": "ipython",
    "version": 3
   },
   "file_extension": ".py",
   "mimetype": "text/x-python",
   "name": "python",
   "nbconvert_exporter": "python",
   "pygments_lexer": "ipython3",
   "version": "3.9.18"
  }
 },
 "nbformat": 4,
 "nbformat_minor": 2
}
