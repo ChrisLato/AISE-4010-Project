{
 "cells": [
  {
   "cell_type": "code",
   "execution_count": 1,
   "metadata": {},
   "outputs": [],
   "source": [
    "import pandas as pd\n",
    "import numpy as np\n",
    "import matplotlib.pyplot as plt\n",
    "import seaborn as sns\n"
   ]
  },
  {
   "cell_type": "code",
   "execution_count": 7,
   "metadata": {},
   "outputs": [],
   "source": [
    "gpd_unclean = pd.read_csv('data\\gdp.csv')\n",
    "inflation_unclean = pd.read_csv('data/inflation.csv')\n",
    "unemployment_unclean = pd.read_csv('data/unemployment.csv')\n",
    "yield_data = pd.read_csv('data/yield.csv')"
   ]
  },
  {
   "cell_type": "code",
   "execution_count": 8,
   "metadata": {},
   "outputs": [
    {
     "name": "stderr",
     "output_type": "stream",
     "text": [
      "C:\\Users\\devpa\\AppData\\Local\\Temp\\ipykernel_11116\\2509312377.py:26: FutureWarning: 'M' is deprecated and will be removed in a future version, please use 'ME' instead.\n",
      "  yield_data = yield_data.resample('M').mean()\n"
     ]
    }
   ],
   "source": [
    "from sklearn.preprocessing import MinMaxScaler\n",
    "\n",
    "# Convert to datetime and set as index\n",
    "yield_data['Date'] = pd.to_datetime(yield_data['Date'], errors='coerce')\n",
    "yield_data.set_index('Date', inplace=True)\n",
    "\n",
    "# Replace invalid values with NaN\n",
    "yield_data.replace(-999.99, pd.NA, inplace=True)\n",
    "\n",
    "# Drop columns with more than 20% missing values\n",
    "threshold = 0.2 * len(yield_data)\n",
    "columns_to_drop = yield_data.columns[yield_data.isnull().sum() > threshold]\n",
    "yield_data = yield_data.drop(columns=columns_to_drop)\n",
    "\n",
    "# Rename columns\n",
    "column_rename_mapping = {\n",
    "    'BETA0': 'LongTermRate',    # Reflects investor confidence about long-term economic growth and inflation\n",
    "    'BETA1': 'Slope',           # A negative slope (yield curve inversion) signals a possible recession\n",
    "}\n",
    "for i in range(1, 31):\n",
    "    column_rename_mapping[f'SVENPY{i:02d}'] = f'SpotRate{i}Y'\n",
    "    column_rename_mapping[f'SVEN1F{i:02d}'] = f'ForwardRate{i}Y'\n",
    "yield_data.rename(columns=column_rename_mapping, inplace=True)\n",
    "\n",
    "# Resample to monthly frequency (convert from 'B' to 'M')\n",
    "yield_data = yield_data.resample('M').mean()\n",
    "\n",
    "# Interpolate missing values for continuous features, including key features\n",
    "yield_data.interpolate(method='linear', limit_direction='forward', axis=0, inplace=True)"
   ]
  }
 ],
 "metadata": {
  "kernelspec": {
   "display_name": "tf-gpu",
   "language": "python",
   "name": "python3"
  },
  "language_info": {
   "codemirror_mode": {
    "name": "ipython",
    "version": 3
   },
   "file_extension": ".py",
   "mimetype": "text/x-python",
   "name": "python",
   "nbconvert_exporter": "python",
   "pygments_lexer": "ipython3",
   "version": "3.9.18"
  }
 },
 "nbformat": 4,
 "nbformat_minor": 2
}
